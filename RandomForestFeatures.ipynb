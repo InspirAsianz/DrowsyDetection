{
 "cells": [
  {
   "cell_type": "code",
   "execution_count": 1,
   "id": "b0c7cebe",
   "metadata": {},
   "outputs": [],
   "source": [
    "import numpy as np\n",
    "import pandas as pd\n",
    "import matplotlib.pyplot as plt\n",
    "import time"
   ]
  },
  {
   "cell_type": "code",
   "execution_count": 2,
   "id": "7436e568",
   "metadata": {
    "scrolled": true
   },
   "outputs": [
    {
     "data": {
      "text/plain": [
       "(476, 971, 1449, 1919, 2365)"
      ]
     },
     "execution_count": 2,
     "metadata": {},
     "output_type": "execute_result"
    }
   ],
   "source": [
    "import os\n",
    "all_dfs = []\n",
    "fold1 = 0\n",
    "fold2 = 0\n",
    "fold3 = 0\n",
    "fold4 = 0\n",
    "fold5 = 0\n",
    "directory = os.fsencode(\"feature data/\")\n",
    "for file in os.listdir(directory):\n",
    "     filename = os.fsdecode(file)\n",
    "     if filename.endswith(\"0.csv\"):\n",
    "        try:\n",
    "            df = pd.read_csv(\"feature data/\" + filename, header=None)\n",
    "            all_dfs.append(df)\n",
    "            if int(filename[0:2]) <= 12:\n",
    "                fold1 += df.shape[0]\n",
    "            elif int(filename[0:2]) <= 24:\n",
    "                fold2 += df.shape[0]\n",
    "            elif int(filename[0:2]) <= 36:\n",
    "                fold3 += df.shape[0]\n",
    "            elif int(filename[0:2]) <= 48:\n",
    "                fold4 += df.shape[0]\n",
    "            elif int(filename[0:2]) <= 60:\n",
    "                fold5 += df.shape[0]\n",
    "        except:\n",
    "            pass\n",
    "fold1, fold2, fold3, fold4, fold5 = fold1, fold1 + fold2, fold1 + fold2 + fold3, fold1 + fold2 + fold3 + fold4, fold1 + fold2 + fold3 + fold4 + fold5\n",
    "fold1, fold2, fold3, fold4, fold5"
   ]
  },
  {
   "cell_type": "code",
   "execution_count": 3,
   "id": "c5476e73",
   "metadata": {},
   "outputs": [
    {
     "data": {
      "text/html": [
       "<div>\n",
       "<style scoped>\n",
       "    .dataframe tbody tr th:only-of-type {\n",
       "        vertical-align: middle;\n",
       "    }\n",
       "\n",
       "    .dataframe tbody tr th {\n",
       "        vertical-align: top;\n",
       "    }\n",
       "\n",
       "    .dataframe thead th {\n",
       "        text-align: right;\n",
       "    }\n",
       "</style>\n",
       "<table border=\"1\" class=\"dataframe\">\n",
       "  <thead>\n",
       "    <tr style=\"text-align: right;\">\n",
       "      <th></th>\n",
       "      <th>0</th>\n",
       "      <th>1</th>\n",
       "      <th>2</th>\n",
       "      <th>3</th>\n",
       "      <th>4</th>\n",
       "      <th>5</th>\n",
       "      <th>6</th>\n",
       "    </tr>\n",
       "  </thead>\n",
       "  <tbody>\n",
       "    <tr>\n",
       "      <th>0</th>\n",
       "      <td>0.0</td>\n",
       "      <td>0.193878</td>\n",
       "      <td>0.060185</td>\n",
       "      <td>0.181122</td>\n",
       "      <td>0.062500</td>\n",
       "      <td>0.344388</td>\n",
       "      <td>0.131944</td>\n",
       "    </tr>\n",
       "    <tr>\n",
       "      <th>1</th>\n",
       "      <td>0.0</td>\n",
       "      <td>0.185279</td>\n",
       "      <td>0.059908</td>\n",
       "      <td>0.159898</td>\n",
       "      <td>0.064516</td>\n",
       "      <td>0.327411</td>\n",
       "      <td>0.135945</td>\n",
       "    </tr>\n",
       "    <tr>\n",
       "      <th>2</th>\n",
       "      <td>0.0</td>\n",
       "      <td>0.183168</td>\n",
       "      <td>0.051454</td>\n",
       "      <td>0.148515</td>\n",
       "      <td>0.058166</td>\n",
       "      <td>0.316832</td>\n",
       "      <td>0.131991</td>\n",
       "    </tr>\n",
       "    <tr>\n",
       "      <th>3</th>\n",
       "      <td>0.0</td>\n",
       "      <td>0.178756</td>\n",
       "      <td>0.048611</td>\n",
       "      <td>0.168394</td>\n",
       "      <td>0.053241</td>\n",
       "      <td>0.341969</td>\n",
       "      <td>0.120370</td>\n",
       "    </tr>\n",
       "    <tr>\n",
       "      <th>4</th>\n",
       "      <td>0.0</td>\n",
       "      <td>0.180662</td>\n",
       "      <td>0.047506</td>\n",
       "      <td>0.152672</td>\n",
       "      <td>0.047506</td>\n",
       "      <td>0.318066</td>\n",
       "      <td>0.125891</td>\n",
       "    </tr>\n",
       "    <tr>\n",
       "      <th>...</th>\n",
       "      <td>...</td>\n",
       "      <td>...</td>\n",
       "      <td>...</td>\n",
       "      <td>...</td>\n",
       "      <td>...</td>\n",
       "      <td>...</td>\n",
       "      <td>...</td>\n",
       "    </tr>\n",
       "    <tr>\n",
       "      <th>16</th>\n",
       "      <td>10.0</td>\n",
       "      <td>0.173633</td>\n",
       "      <td>0.048295</td>\n",
       "      <td>0.173633</td>\n",
       "      <td>0.045455</td>\n",
       "      <td>0.392283</td>\n",
       "      <td>0.090909</td>\n",
       "    </tr>\n",
       "    <tr>\n",
       "      <th>17</th>\n",
       "      <td>10.0</td>\n",
       "      <td>0.169279</td>\n",
       "      <td>0.043732</td>\n",
       "      <td>0.178683</td>\n",
       "      <td>0.055394</td>\n",
       "      <td>0.288401</td>\n",
       "      <td>0.230321</td>\n",
       "    </tr>\n",
       "    <tr>\n",
       "      <th>18</th>\n",
       "      <td>10.0</td>\n",
       "      <td>0.174342</td>\n",
       "      <td>0.051672</td>\n",
       "      <td>0.177632</td>\n",
       "      <td>0.054711</td>\n",
       "      <td>0.365132</td>\n",
       "      <td>0.139818</td>\n",
       "    </tr>\n",
       "    <tr>\n",
       "      <th>19</th>\n",
       "      <td>10.0</td>\n",
       "      <td>0.166102</td>\n",
       "      <td>0.033639</td>\n",
       "      <td>0.176271</td>\n",
       "      <td>0.036697</td>\n",
       "      <td>0.362712</td>\n",
       "      <td>0.159021</td>\n",
       "    </tr>\n",
       "    <tr>\n",
       "      <th>20</th>\n",
       "      <td>10.0</td>\n",
       "      <td>0.180505</td>\n",
       "      <td>0.045307</td>\n",
       "      <td>0.184116</td>\n",
       "      <td>0.051780</td>\n",
       "      <td>0.379061</td>\n",
       "      <td>0.161812</td>\n",
       "    </tr>\n",
       "  </tbody>\n",
       "</table>\n",
       "<p>2365 rows × 7 columns</p>\n",
       "</div>"
      ],
      "text/plain": [
       "       0         1         2         3         4         5         6\n",
       "0    0.0  0.193878  0.060185  0.181122  0.062500  0.344388  0.131944\n",
       "1    0.0  0.185279  0.059908  0.159898  0.064516  0.327411  0.135945\n",
       "2    0.0  0.183168  0.051454  0.148515  0.058166  0.316832  0.131991\n",
       "3    0.0  0.178756  0.048611  0.168394  0.053241  0.341969  0.120370\n",
       "4    0.0  0.180662  0.047506  0.152672  0.047506  0.318066  0.125891\n",
       "..   ...       ...       ...       ...       ...       ...       ...\n",
       "16  10.0  0.173633  0.048295  0.173633  0.045455  0.392283  0.090909\n",
       "17  10.0  0.169279  0.043732  0.178683  0.055394  0.288401  0.230321\n",
       "18  10.0  0.174342  0.051672  0.177632  0.054711  0.365132  0.139818\n",
       "19  10.0  0.166102  0.033639  0.176271  0.036697  0.362712  0.159021\n",
       "20  10.0  0.180505  0.045307  0.184116  0.051780  0.379061  0.161812\n",
       "\n",
       "[2365 rows x 7 columns]"
      ]
     },
     "execution_count": 3,
     "metadata": {},
     "output_type": "execute_result"
    }
   ],
   "source": [
    "data = pd.concat(all_dfs)\n",
    "data"
   ]
  },
  {
   "cell_type": "code",
   "execution_count": 4,
   "id": "f49d4609",
   "metadata": {},
   "outputs": [],
   "source": [
    "X = data.iloc[:, [i for i in range(1, 7)]]\n",
    "Y = data.iloc[:, 0]"
   ]
  },
  {
   "cell_type": "code",
   "execution_count": 5,
   "id": "24a9c391",
   "metadata": {},
   "outputs": [],
   "source": [
    "from sklearn.preprocessing import MinMaxScaler\n",
    "scaler = MinMaxScaler()"
   ]
  },
  {
   "cell_type": "code",
   "execution_count": 6,
   "id": "30b15e08",
   "metadata": {},
   "outputs": [
    {
     "data": {
      "text/html": [
       "<div>\n",
       "<style scoped>\n",
       "    .dataframe tbody tr th:only-of-type {\n",
       "        vertical-align: middle;\n",
       "    }\n",
       "\n",
       "    .dataframe tbody tr th {\n",
       "        vertical-align: top;\n",
       "    }\n",
       "\n",
       "    .dataframe thead th {\n",
       "        text-align: right;\n",
       "    }\n",
       "</style>\n",
       "<table border=\"1\" class=\"dataframe\">\n",
       "  <thead>\n",
       "    <tr style=\"text-align: right;\">\n",
       "      <th></th>\n",
       "      <th>Left Eye Width</th>\n",
       "      <th>Left Eye Height</th>\n",
       "      <th>Right Eye Width</th>\n",
       "      <th>Right Eye Height</th>\n",
       "      <th>Mouth Width</th>\n",
       "      <th>Mouth Height</th>\n",
       "    </tr>\n",
       "  </thead>\n",
       "  <tbody>\n",
       "    <tr>\n",
       "      <th>0</th>\n",
       "      <td>0.742409</td>\n",
       "      <td>0.493463</td>\n",
       "      <td>0.661817</td>\n",
       "      <td>0.462014</td>\n",
       "      <td>0.482701</td>\n",
       "      <td>0.412251</td>\n",
       "    </tr>\n",
       "    <tr>\n",
       "      <th>1</th>\n",
       "      <td>0.668379</td>\n",
       "      <td>0.490166</td>\n",
       "      <td>0.503346</td>\n",
       "      <td>0.483860</td>\n",
       "      <td>0.410035</td>\n",
       "      <td>0.429143</td>\n",
       "    </tr>\n",
       "    <tr>\n",
       "      <th>2</th>\n",
       "      <td>0.650205</td>\n",
       "      <td>0.389691</td>\n",
       "      <td>0.418349</td>\n",
       "      <td>0.415047</td>\n",
       "      <td>0.364750</td>\n",
       "      <td>0.412448</td>\n",
       "    </tr>\n",
       "    <tr>\n",
       "      <th>3</th>\n",
       "      <td>0.612220</td>\n",
       "      <td>0.355901</td>\n",
       "      <td>0.566777</td>\n",
       "      <td>0.361683</td>\n",
       "      <td>0.472348</td>\n",
       "      <td>0.363379</td>\n",
       "    </tr>\n",
       "    <tr>\n",
       "      <th>4</th>\n",
       "      <td>0.628623</td>\n",
       "      <td>0.342765</td>\n",
       "      <td>0.449387</td>\n",
       "      <td>0.299543</td>\n",
       "      <td>0.370034</td>\n",
       "      <td>0.386689</td>\n",
       "    </tr>\n",
       "    <tr>\n",
       "      <th>...</th>\n",
       "      <td>...</td>\n",
       "      <td>...</td>\n",
       "      <td>...</td>\n",
       "      <td>...</td>\n",
       "      <td>...</td>\n",
       "      <td>...</td>\n",
       "    </tr>\n",
       "    <tr>\n",
       "      <th>2360</th>\n",
       "      <td>0.568112</td>\n",
       "      <td>0.352149</td>\n",
       "      <td>0.605900</td>\n",
       "      <td>0.277314</td>\n",
       "      <td>0.687712</td>\n",
       "      <td>0.238977</td>\n",
       "    </tr>\n",
       "    <tr>\n",
       "      <th>2361</th>\n",
       "      <td>0.530622</td>\n",
       "      <td>0.297908</td>\n",
       "      <td>0.643606</td>\n",
       "      <td>0.385011</td>\n",
       "      <td>0.243057</td>\n",
       "      <td>0.827651</td>\n",
       "    </tr>\n",
       "    <tr>\n",
       "      <th>2362</th>\n",
       "      <td>0.574214</td>\n",
       "      <td>0.392277</td>\n",
       "      <td>0.635752</td>\n",
       "      <td>0.377617</td>\n",
       "      <td>0.571493</td>\n",
       "      <td>0.445496</td>\n",
       "    </tr>\n",
       "    <tr>\n",
       "      <th>2363</th>\n",
       "      <td>0.503266</td>\n",
       "      <td>0.177953</td>\n",
       "      <td>0.625595</td>\n",
       "      <td>0.182423</td>\n",
       "      <td>0.561136</td>\n",
       "      <td>0.526585</td>\n",
       "    </tr>\n",
       "    <tr>\n",
       "      <th>2364</th>\n",
       "      <td>0.627278</td>\n",
       "      <td>0.316635</td>\n",
       "      <td>0.684166</td>\n",
       "      <td>0.345854</td>\n",
       "      <td>0.631118</td>\n",
       "      <td>0.538370</td>\n",
       "    </tr>\n",
       "  </tbody>\n",
       "</table>\n",
       "<p>2365 rows × 6 columns</p>\n",
       "</div>"
      ],
      "text/plain": [
       "      Left Eye Width  Left Eye Height  Right Eye Width  Right Eye Height  \\\n",
       "0           0.742409         0.493463         0.661817          0.462014   \n",
       "1           0.668379         0.490166         0.503346          0.483860   \n",
       "2           0.650205         0.389691         0.418349          0.415047   \n",
       "3           0.612220         0.355901         0.566777          0.361683   \n",
       "4           0.628623         0.342765         0.449387          0.299543   \n",
       "...              ...              ...              ...               ...   \n",
       "2360        0.568112         0.352149         0.605900          0.277314   \n",
       "2361        0.530622         0.297908         0.643606          0.385011   \n",
       "2362        0.574214         0.392277         0.635752          0.377617   \n",
       "2363        0.503266         0.177953         0.625595          0.182423   \n",
       "2364        0.627278         0.316635         0.684166          0.345854   \n",
       "\n",
       "      Mouth Width  Mouth Height  \n",
       "0        0.482701      0.412251  \n",
       "1        0.410035      0.429143  \n",
       "2        0.364750      0.412448  \n",
       "3        0.472348      0.363379  \n",
       "4        0.370034      0.386689  \n",
       "...           ...           ...  \n",
       "2360     0.687712      0.238977  \n",
       "2361     0.243057      0.827651  \n",
       "2362     0.571493      0.445496  \n",
       "2363     0.561136      0.526585  \n",
       "2364     0.631118      0.538370  \n",
       "\n",
       "[2365 rows x 6 columns]"
      ]
     },
     "execution_count": 6,
     "metadata": {},
     "output_type": "execute_result"
    }
   ],
   "source": [
    "X = pd.DataFrame(scaler.fit_transform(X))\n",
    "Y = pd.DataFrame(np.array(Y))\n",
    "X.columns = [\"Left Eye Width\", \"Left Eye Height\", \"Right Eye Width\", \"Right Eye Height\", \"Mouth Width\", \"Mouth Height\"]\n",
    "X"
   ]
  },
  {
   "cell_type": "code",
   "execution_count": 7,
   "id": "7eb25f42",
   "metadata": {},
   "outputs": [],
   "source": [
    "pd.concat([Y, X], axis=1).to_csv(\"feature data/scaled.csv\", index=False)"
   ]
  },
  {
   "cell_type": "code",
   "execution_count": 85,
   "id": "a7e860e4",
   "metadata": {},
   "outputs": [
    {
     "data": {
      "text/html": [
       "<div>\n",
       "<style scoped>\n",
       "    .dataframe tbody tr th:only-of-type {\n",
       "        vertical-align: middle;\n",
       "    }\n",
       "\n",
       "    .dataframe tbody tr th {\n",
       "        vertical-align: top;\n",
       "    }\n",
       "\n",
       "    .dataframe thead th {\n",
       "        text-align: right;\n",
       "    }\n",
       "</style>\n",
       "<table border=\"1\" class=\"dataframe\">\n",
       "  <thead>\n",
       "    <tr style=\"text-align: right;\">\n",
       "      <th></th>\n",
       "      <th>0</th>\n",
       "      <th>Left Eye Width</th>\n",
       "      <th>Left Eye Height</th>\n",
       "      <th>Right Eye Width</th>\n",
       "      <th>Right Eye Height</th>\n",
       "      <th>Mouth Width</th>\n",
       "      <th>Mouth Height</th>\n",
       "    </tr>\n",
       "  </thead>\n",
       "  <tbody>\n",
       "    <tr>\n",
       "      <th>0</th>\n",
       "      <td>Non Drowsy</td>\n",
       "      <td>0.742409</td>\n",
       "      <td>0.493463</td>\n",
       "      <td>0.661817</td>\n",
       "      <td>0.462014</td>\n",
       "      <td>0.482701</td>\n",
       "      <td>0.412251</td>\n",
       "    </tr>\n",
       "    <tr>\n",
       "      <th>1</th>\n",
       "      <td>Non Drowsy</td>\n",
       "      <td>0.668379</td>\n",
       "      <td>0.490166</td>\n",
       "      <td>0.503346</td>\n",
       "      <td>0.483860</td>\n",
       "      <td>0.410035</td>\n",
       "      <td>0.429143</td>\n",
       "    </tr>\n",
       "    <tr>\n",
       "      <th>2</th>\n",
       "      <td>Non Drowsy</td>\n",
       "      <td>0.650205</td>\n",
       "      <td>0.389691</td>\n",
       "      <td>0.418349</td>\n",
       "      <td>0.415047</td>\n",
       "      <td>0.364750</td>\n",
       "      <td>0.412448</td>\n",
       "    </tr>\n",
       "    <tr>\n",
       "      <th>3</th>\n",
       "      <td>Non Drowsy</td>\n",
       "      <td>0.612220</td>\n",
       "      <td>0.355901</td>\n",
       "      <td>0.566777</td>\n",
       "      <td>0.361683</td>\n",
       "      <td>0.472348</td>\n",
       "      <td>0.363379</td>\n",
       "    </tr>\n",
       "    <tr>\n",
       "      <th>4</th>\n",
       "      <td>Non Drowsy</td>\n",
       "      <td>0.628623</td>\n",
       "      <td>0.342765</td>\n",
       "      <td>0.449387</td>\n",
       "      <td>0.299543</td>\n",
       "      <td>0.370034</td>\n",
       "      <td>0.386689</td>\n",
       "    </tr>\n",
       "    <tr>\n",
       "      <th>...</th>\n",
       "      <td>...</td>\n",
       "      <td>...</td>\n",
       "      <td>...</td>\n",
       "      <td>...</td>\n",
       "      <td>...</td>\n",
       "      <td>...</td>\n",
       "      <td>...</td>\n",
       "    </tr>\n",
       "    <tr>\n",
       "      <th>2360</th>\n",
       "      <td>Drowsy</td>\n",
       "      <td>0.568112</td>\n",
       "      <td>0.352149</td>\n",
       "      <td>0.605900</td>\n",
       "      <td>0.277314</td>\n",
       "      <td>0.687712</td>\n",
       "      <td>0.238977</td>\n",
       "    </tr>\n",
       "    <tr>\n",
       "      <th>2361</th>\n",
       "      <td>Drowsy</td>\n",
       "      <td>0.530622</td>\n",
       "      <td>0.297908</td>\n",
       "      <td>0.643606</td>\n",
       "      <td>0.385011</td>\n",
       "      <td>0.243057</td>\n",
       "      <td>0.827651</td>\n",
       "    </tr>\n",
       "    <tr>\n",
       "      <th>2362</th>\n",
       "      <td>Drowsy</td>\n",
       "      <td>0.574214</td>\n",
       "      <td>0.392277</td>\n",
       "      <td>0.635752</td>\n",
       "      <td>0.377617</td>\n",
       "      <td>0.571493</td>\n",
       "      <td>0.445496</td>\n",
       "    </tr>\n",
       "    <tr>\n",
       "      <th>2363</th>\n",
       "      <td>Drowsy</td>\n",
       "      <td>0.503266</td>\n",
       "      <td>0.177953</td>\n",
       "      <td>0.625595</td>\n",
       "      <td>0.182423</td>\n",
       "      <td>0.561136</td>\n",
       "      <td>0.526585</td>\n",
       "    </tr>\n",
       "    <tr>\n",
       "      <th>2364</th>\n",
       "      <td>Drowsy</td>\n",
       "      <td>0.627278</td>\n",
       "      <td>0.316635</td>\n",
       "      <td>0.684166</td>\n",
       "      <td>0.345854</td>\n",
       "      <td>0.631118</td>\n",
       "      <td>0.538370</td>\n",
       "    </tr>\n",
       "  </tbody>\n",
       "</table>\n",
       "<p>2365 rows × 7 columns</p>\n",
       "</div>"
      ],
      "text/plain": [
       "               0  Left Eye Width  Left Eye Height  Right Eye Width  \\\n",
       "0     Non Drowsy        0.742409         0.493463         0.661817   \n",
       "1     Non Drowsy        0.668379         0.490166         0.503346   \n",
       "2     Non Drowsy        0.650205         0.389691         0.418349   \n",
       "3     Non Drowsy        0.612220         0.355901         0.566777   \n",
       "4     Non Drowsy        0.628623         0.342765         0.449387   \n",
       "...          ...             ...              ...              ...   \n",
       "2360      Drowsy        0.568112         0.352149         0.605900   \n",
       "2361      Drowsy        0.530622         0.297908         0.643606   \n",
       "2362      Drowsy        0.574214         0.392277         0.635752   \n",
       "2363      Drowsy        0.503266         0.177953         0.625595   \n",
       "2364      Drowsy        0.627278         0.316635         0.684166   \n",
       "\n",
       "      Right Eye Height  Mouth Width  Mouth Height  \n",
       "0             0.462014     0.482701      0.412251  \n",
       "1             0.483860     0.410035      0.429143  \n",
       "2             0.415047     0.364750      0.412448  \n",
       "3             0.361683     0.472348      0.363379  \n",
       "4             0.299543     0.370034      0.386689  \n",
       "...                ...          ...           ...  \n",
       "2360          0.277314     0.687712      0.238977  \n",
       "2361          0.385011     0.243057      0.827651  \n",
       "2362          0.377617     0.571493      0.445496  \n",
       "2363          0.182423     0.561136      0.526585  \n",
       "2364          0.345854     0.631118      0.538370  \n",
       "\n",
       "[2365 rows x 7 columns]"
      ]
     },
     "execution_count": 85,
     "metadata": {},
     "output_type": "execute_result"
    }
   ],
   "source": [
    "data = pd.read_csv(\"feature data/scaled.csv\")\n",
    "data.loc[data[\"0\"] == 10, \"0\"] = \"Drowsy\"\n",
    "data.loc[data[\"0\"] == 0, \"0\"] = \"Non Drowsy\"\n",
    "data"
   ]
  },
  {
   "cell_type": "code",
   "execution_count": 90,
   "id": "208e3e2a",
   "metadata": {},
   "outputs": [],
   "source": [
    "X = data.iloc[:, [i for i in range(1, 7)]]\n",
    "Y = data.iloc[:, 0]"
   ]
  },
  {
   "cell_type": "code",
   "execution_count": 91,
   "id": "41523001",
   "metadata": {},
   "outputs": [],
   "source": [
    "def split_data(fold): # fold to test on\n",
    "    if fold == 1:\n",
    "        xtr, xte = X[fold1:], X[:fold1]\n",
    "        ytr, yte = Y[fold1:], Y[:fold1]\n",
    "    if fold == 2:\n",
    "        xtr, xte = pd.concat([X[:fold1], X[fold2:]]), X[fold1:fold2]\n",
    "        ytr, yte = pd.concat([Y[:fold1], Y[fold2:]]), Y[fold1:fold2]\n",
    "    if fold == 3:\n",
    "        xtr, xte = pd.concat([X[:fold2], X[fold3:]]), X[fold2:fold3]\n",
    "        ytr, yte = pd.concat([Y[:fold2], Y[fold3:]]), Y[fold2:fold3]\n",
    "    if fold == 4:\n",
    "        xtr, xte = pd.concat([X[:fold3], X[fold4:]]), X[fold3:fold4]\n",
    "        ytr, yte = pd.concat([Y[:fold3], Y[fold4:]]), Y[fold3:fold4]\n",
    "    if fold == 5:\n",
    "        xtr, xte = X[:fold4], X[fold4:]\n",
    "        ytr, yte = Y[:fold4], Y[fold4:]\n",
    "    return xtr, xte, ytr, yte"
   ]
  },
  {
   "cell_type": "code",
   "execution_count": 92,
   "id": "7122ab60",
   "metadata": {},
   "outputs": [],
   "source": [
    "from sklearn.model_selection import train_test_split\n",
    "X_Train, X_Test, Y_Train, Y_Test = train_test_split(X, Y, test_size = 0.20, shuffle=False)"
   ]
  },
  {
   "cell_type": "code",
   "execution_count": 93,
   "id": "55952605",
   "metadata": {},
   "outputs": [],
   "source": [
    "X_Train, X_Test, Y_Train, Y_Test = split_data(2)"
   ]
  },
  {
   "cell_type": "code",
   "execution_count": 94,
   "id": "66486377",
   "metadata": {},
   "outputs": [],
   "source": [
    "from sklearn.ensemble import RandomForestClassifier\n",
    "from sklearn.metrics import accuracy_score, precision_score, recall_score, f1_score"
   ]
  },
  {
   "cell_type": "code",
   "execution_count": 96,
   "id": "58345055",
   "metadata": {},
   "outputs": [
    {
     "data": {
      "text/plain": [
       "(0.7304812834224599,\n",
       " 0.8177777777777778,\n",
       " 0.5916398713826366,\n",
       " 0.6865671641791045)"
      ]
     },
     "execution_count": 96,
     "metadata": {},
     "output_type": "execute_result"
    }
   ],
   "source": [
    "classifier = RandomForestClassifier(n_estimators = 100, \n",
    "                                    max_depth = 6,\n",
    "                                    criterion = 'entropy', \n",
    "                                    bootstrap=True,\n",
    "                                    random_state=42,\n",
    "                                   )\n",
    "classifier.fit(X_Train,Y_Train)\n",
    "Y_Pred = classifier.predict(X_Train)\n",
    "accuracy = accuracy_score(Y_Train, Y_Pred)\n",
    "precision = precision_score(Y_Train, Y_Pred, pos_label=\"Drowsy\")\n",
    "recall = recall_score(Y_Train, Y_Pred, pos_label=\"Drowsy\")\n",
    "f1 = f1_score(Y_Train, Y_Pred, pos_label=\"Drowsy\")\n",
    "accuracy, precision, recall, f1"
   ]
  },
  {
   "cell_type": "code",
   "execution_count": 98,
   "id": "11f522dc",
   "metadata": {},
   "outputs": [
    {
     "data": {
      "text/plain": [
       "(0.7272727272727273, 0.7969543147208121, 0.623015873015873, 0.6993318485523385)"
      ]
     },
     "execution_count": 98,
     "metadata": {},
     "output_type": "execute_result"
    }
   ],
   "source": [
    "Y_Pred = classifier.predict(X_Test)\n",
    "accuracy = accuracy_score(Y_Test, Y_Pred)\n",
    "precision = precision_score(Y_Test, Y_Pred, pos_label=\"Drowsy\")\n",
    "recall = recall_score(Y_Test, Y_Pred, pos_label=\"Drowsy\")\n",
    "f1 = f1_score(Y_Test, Y_Pred, pos_label=\"Drowsy\")\n",
    "accuracy, precision, recall, f1"
   ]
  },
  {
   "cell_type": "code",
   "execution_count": 99,
   "id": "ac156fe9",
   "metadata": {
    "scrolled": true
   },
   "outputs": [
    {
     "data": {
      "image/png": "[encoded data removed]",
      "text/plain": [
       "<Figure size 432x288 with 2 Axes>"
      ]
     },
     "metadata": {
      "needs_background": "light"
     },
     "output_type": "display_data"
    }
   ],
   "source": [
    "from sklearn.metrics import plot_confusion_matrix\n",
    "plot_confusion_matrix(classifier, X_Test, Y_Test, normalize=\"true\")\n",
    "plt.savefig(\"confusion_matrix_rf.png\")"
   ]
  },
  {
   "cell_type": "code",
   "execution_count": 74,
   "id": "091b0f26",
   "metadata": {},
   "outputs": [
    {
     "data": {
      "text/plain": [
       "[<matplotlib.lines.Line2D at 0x1c1a66b8220>]"
      ]
     },
     "execution_count": 74,
     "metadata": {},
     "output_type": "execute_result"
    },
    {
     "data": {
      "image/png": "[encoded data removed]",
      "text/plain": [
       "<Figure size 432x288 with 1 Axes>"
      ]
     },
     "metadata": {
      "needs_background": "light"
     },
     "output_type": "display_data"
    }
   ],
   "source": [
    "from sklearn.metrics import plot_roc_curve\n",
    "plot_roc_curve(classifier, X_Test, Y_Test)\n",
    "x = np.linspace(0, 1, 1000)\n",
    "plt.plot(x,x)"
   ]
  },
  {
   "cell_type": "code",
   "execution_count": null,
   "id": "8427cfd5",
   "metadata": {
    "scrolled": true
   },
   "outputs": [],
   "source": [
    "from IPython.display import SVG\n",
    "from graphviz import Source\n",
    "from sklearn.tree import export_graphviz\n",
    "graph = Source( export_graphviz(classifier[0], out_file=None, feature_names=X.columns, class_names = [\"Non-Drowsy\", \"Drowsy\"],\n",
    "                               filled=True, rounded=True))\n",
    "graph.format = 'png'\n",
    "graph.render('tree1', view=True)"
   ]
  },
  {
   "cell_type": "code",
   "execution_count": 20,
   "id": "2cfd04d7",
   "metadata": {},
   "outputs": [
    {
     "data": {
      "text/plain": [
       "[('Left Eye Width', 0.14051746143855942),\n",
       " ('Left Eye Height', 0.1869799410219126),\n",
       " ('Right Eye Width', 0.18674846584676041),\n",
       " ('Right Eye Height', 0.15667156423278364),\n",
       " ('Mouth Width', 0.18796255966521694),\n",
       " ('Mouth Height', 0.1411200077947669)]"
      ]
     },
     "execution_count": 20,
     "metadata": {},
     "output_type": "execute_result"
    }
   ],
   "source": [
    "list(zip(X_Train, classifier.feature_importances_))"
   ]
  }
 ],
 "metadata": {
  "kernelspec": {
   "display_name": "Python 3",
   "language": "python",
   "name": "python3"
  },
  "language_info": {
   "codemirror_mode": {
    "name": "ipython",
    "version": 3
   },
   "file_extension": ".py",
   "mimetype": "text/x-python",
   "name": "python",
   "nbconvert_exporter": "python",
   "pygments_lexer": "ipython3",
   "version": "3.8.7"
  }
 },
 "nbformat": 4,
 "nbformat_minor": 5
}
